!pip install matplotlib ipywidgets


import tensorflow as tf
gpus = tf.config.experimental.list_physical_devices('GPU')
for gpu in gpus:
  tf.config.experimental.set_memory_growth(gpu, True)
  print(gpu)


import tensorflow_datasets as tfds
from matplotlib import pyplot as plt

#tensorflow dataset api to load the dataset
ds = tfds.load('fashion_mnist', split='train')


#data transformations
import numpy as np


#iterator for dataset
iterator = ds.as_numpy_iterator()


iterator.next() #getting data out of pipeline


#Setup the subplot formatting
figure, ax = plt.subplots(ncols=4, figsize=(20,20))

#Loop four times and get images
for index in range(4):
    #Grab an image and label
    sample = iterator.next()

    #Plot the image using a specific subplot
    ax[index].imshow(np.squeeze(sample['image']))

    #Appending the image label as the plot title
    ax[index].title.set_text(sample['label'])


#Scale and return images only
def scale_image(data):
    image = data['image']
    return image/255


#Running the dataset through the scale_images preprocssing step
ds = ds.map(scale_image)

#Cache the dataset for that batch
ds = ds.cache()

#Shuffle it up
ds = ds.shuffle(60000)

#batch into 128 images per sample
ds = ds.batch(128)

#Reduce the chance of bottleneck
ds = ds.prefetch(64)


ds.as_numpy_iterator().next().shape


#Bring sequential api for the generator and discriminator
from tensorflow.keras.models import Sequential
#Bring in layers for the neural network
from tensorflow.keras.layers import Conv2D, Dense, Flatten, Reshape, LeakyReLU, Dropout, UpSampling2D


def build_generator():
    model = Sequential()

    #Takes in random values and reshapes it to 7x7x128
    model.add(Dense(7*7*128, input_dim = 128))
    model.add(LeakyReLU(0.2))   #Activation function
    model.add(Reshape((7,7,128)))

    #Upsampling layer 1
    model.add(UpSampling2D())
    model.add(Conv2D(128, 5, padding='same'))
    model.add(LeakyReLU(0.2))

    #Upsampling layer 2
    model.add(UpSampling2D())
    model.add(Conv2D(128, 5, padding='same'))
    model.add(LeakyReLU(0.2))

    #Convolution layer 1
    model.add(Conv2D(128, 4, padding='same'))
    model.add(LeakyReLU(0.2))

    #Convolution layer 2
    model.add(Conv2D(128, 4, padding='same'))
    model.add(LeakyReLU(0.2))

    #Convolution layer to get one channel
    model.add(Conv2D(1,4,padding='same', activation='sigmoid'))

    return model


generator = build_generator()
generator.summary()


img = generator.predict(np.random.randn(4,128,1))

#Setup the subplot formatting
figure, ax = plt.subplots(ncols=4, figsize=(20,20))

#Loop four times and get images
for index, img in enumerate(img):

    #Plot the image using a specific subplot
    ax[index].imshow(np.squeeze(img))

    #Appending the image label as the plot title
    ax[index].title.set_text(index)


def build_discriminator():
    model = Sequential()

    #First convolution layer
    model.add(Conv2D(32,5,input_shape=(28,28,1)))
    model.add(LeakyReLU(0.2))
    model.add(Dropout(0.4))

    #Second Convolution layer
    model.add(Conv2D(64, 5))
    model.add(LeakyReLU(0.2))
    model.add(Dropout(0.4))

    #Third Convolution layer
    model.add(Conv2D(128, 5))
    model.add(LeakyReLU(0.2))
    model.add(Dropout(0.4))

    #Fourth Convolution layer
    model.add(Conv2D(256, 5))
    model.add(LeakyReLU(0.2))
    model.add(Dropout(0.4))

    #Flatten then pass to dense layer
    model.add(Flatten())
    model.add(Dropout(0.4))
    model.add(Dense(1, activation='sigmoid'))

    return model


discriminator = build_discriminator()
discriminator.summary()


img = generator.predict(np.random.randn(4,128,1))


discriminator.predict(img)





from tensorflow.keras.optimizers import Adam
from tensorflow.keras.losses import BinaryCrossentropy


gen_opt = Adam(learning_rate=0.0001)
dis_opt = Adam(learning_rate=0.00001)
g_loss = BinaryCrossentropy()
d_loss = BinaryCrossentropy()


#import base model calss to subclass
from tensorflow.keras.models import Model


class FashionGAN(Model):
    def __init__(self, generator, discriminator, *args, **kwargs):
        #Pass through args and kwargs to base class
        super().__init__(*args, **kwargs)

        #Create attributes for gen and disc
        self.generator = generator
        self.discriminator = discriminator

    def compile(self, gen_opt, dis_opt, g_loss, d_loss, *args, **kwargs):
        #Compile with base class
        super().compile(*args, **kwargs)
        self.gen_opt = gen_opt
        self.dis_opt = dis_opt;
        self.g_loss = g_loss
        self.d_loss = d_loss

    def train_step(self, batch):
        #Get the data
        real_images = batch
        fake_images = self.generator(tf.random.normal((128, 128, 1)), training = False)

        #Train the discriminator
        with tf.GradientTape() as d_tape:

            #Pass the real and fake images to discriminator model
            yhat_real = self.discriminator(real_images, training=True)
            yhat_fake = self.discriminator(fake_images, training=True)
            yhat_realfake = tf.concat([yhat_real, yhat_fake], axis=0)

            #Create Labels for real and fake images
            y_realfake = tf.concat([tf.zeros_like(yhat_real), tf.ones_like(yhat_fake)], axis=0)

            #Add some noise to the output
            noise_real = 0.15*tf.random.uniform(tf.shape(yhat_real))
            noise_fake = -0.15*tf.random.uniform(tf.shape(yhat_fake))
            y_realfake += tf.concat([noise_real, noise_fake], axis=0)


            #Calculate Loss - Binary Cross
            total_d_loss = self.d_loss(y_realfake, yhat_realfake)

        #Apply backpropagation
        dgrad = d_tape.gradient(total_d_loss, self.discriminator.trainable_variables)
        self.dis_opt.apply_gradients(zip(dgrad, self.discriminator.trainable_variables))

        #Train the generator
        with tf.GradientTape() as g_tape:
            #Generate some new image
            gen_images = self.generator(tf.random.normal((128, 128, 1)), training = False)

            #Create the predicted Labels
            predicted_labels = self.discriminator(gen_images, training=False)

            #Calculate loss - trick the discriminator
            total_g_loss = self.g_loss(tf.zeros_like(predicted_labels), predicted_labels)

        #Apply backprop
        ggrad = g_tape.gradient(total_g_loss, self.generator.trainable_variables)
        self.gen_opt.apply_gradients(zip(ggrad, self.generator.trainable_variables))

        return {"d_loss":total_d_loss, "g_loss":total_g_loss}


fashgan = FashionGAN(generator, discriminator)


fashgan.compile(gen_opt, dis_opt, g_loss, d_loss)


import os
from tensorflow.keras.preprocessing.image import array_to_img
from tensorflow.keras.callbacks import Callback


class ModelMonitor(Callback):
    def __init__(self, num_img=3, latent_dim=128):
        self.num_img = num_img
        self.latent_dim = latent_dim

    def on_epoch_end(self, epoch, logs=None):
        random_latent_vectors = tf.random.uniform((self.num_img, self.latent_dim, 1))
        generated_images = self.model.generator(random_latent_vectors)
        generated_images *= 255
        generated_images.numpy()
        for i in range(self.num_img):
            img = array_to_img(generated_images[i])
            img.save(os.path.join('images', f'generated_img_{epoch}_{i}.png'))


hist = fashgan.fit(ds, epochs=20, callbacks=[ModelMonitor()])


plt.subtitle('Loss')
plt.plot(hist.history['d_loss'], label='d_loss')
plt.plot(hist.history['g_loss'], label='g_loss')
plt.show()


# generator.load_weights(os.path.join('archive', 'generatormodel.h5'))
# generator.save('generator.h5')
# discriminator.save('discriminator.h5')


images = generator.predict(tf.random.normal((16, 128, 1)))
fig, ax = plt.subplots(ncols=4, nrols=4, figsize=(20,20))
for r in range(4):
    for c in range(4):
        ax[r][c].imshow(images[(r+1)*(c+1)-1])
